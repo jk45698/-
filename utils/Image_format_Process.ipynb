{
 "cells": [
  {
   "cell_type": "code",
   "execution_count": 8,
   "source": [
    "'''\r\n",
    "本程序将同学提交的图片进行格式统一，全部统一为jpg格式\r\n",
    "author： 杨涵淞\r\n",
    "'''\r\n",
    "\r\n",
    "from PIL import Image\r\n",
    "import os"
   ],
   "outputs": [],
   "metadata": {}
  },
  {
   "cell_type": "code",
   "execution_count": 32,
   "source": [
    "def is_jpg(filename):\r\n",
    "    try:        \r\n",
    "        i=Image.open(filename)  \r\n",
    "        return i.format =='JPEG'    \r\n",
    "    except IOError:        \r\n",
    "        return False\r\n",
    "    \r\n",
    "new_path1 = \"E:\\\\vision\\\\Dataset\\\\newdata\\\\train\\\\\"\r\n",
    "new_path2 = \"E:\\\\vision\\\\Dataset\\\\newdata\\\\test\\\\\"\r\n",
    "new_path = [new_path1, new_path2]\r\n",
    "\r\n",
    "sum = 0\r\n",
    "for i in range(2):\r\n",
    "    filelist = os.listdir(new_path[i])\r\n",
    "\r\n",
    "    for name in filelist:\r\n",
    "        if (not \"json\" in name) and (not is_jpg(os.path.join(new_path[i], name))) :\r\n",
    "            \r\n",
    "            sum += 1\r\n",
    "            if sum % 50 == 0:\r\n",
    "                print(name)\r\n",
    "            newname = os.path.splitext(name)[0]\r\n",
    "\r\n",
    "            newname = newname + \".jpg\"\r\n",
    "            im = Image.open(os.path.join(new_path[i], name)).convert('RGB')\r\n",
    "            os.remove(new_path[i] + name)\r\n",
    "            im.save(new_path[i] + newname, \"JPEG\")\r\n",
    "\r\n",
    "print(sum)"
   ],
   "outputs": [
    {
     "output_type": "stream",
     "name": "stdout",
     "text": [
      "0\n"
     ]
    }
   ],
   "metadata": {}
  }
 ],
 "metadata": {
  "kernelspec": {
   "name": "python3",
   "display_name": "Python 3.8.8 64-bit ('base': conda)"
  },
  "language_info": {
   "codemirror_mode": {
    "name": "ipython",
    "version": 3
   },
   "file_extension": ".py",
   "mimetype": "text/x-python",
   "name": "python",
   "nbconvert_exporter": "python",
   "pygments_lexer": "ipython3",
   "version": "3.8.8"
  },
  "interpreter": {
   "hash": "41014f37ce08bde77ecab1a585fc4d41f1b950404458b090da233fe766a0394a"
  }
 },
 "nbformat": 4,
 "nbformat_minor": 5
}